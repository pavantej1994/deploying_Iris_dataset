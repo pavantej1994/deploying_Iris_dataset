{
 "cells": [
  {
   "cell_type": "code",
   "execution_count": 2,
   "metadata": {},
   "outputs": [],
   "source": [
    "from flask import Flask,request,url_for,redirect,render_template,jsonify\n",
    "import pandas as pd\n",
    "import joblib\n",
    "import numpy as np\n",
    "import config"
   ]
  },
  {
   "cell_type": "code",
   "execution_count": null,
   "metadata": {},
   "outputs": [],
   "source": [
    "app=Flask(__name__)\n",
    "\n",
    "model=joblib.load('LogisticRegression.pkl')\n",
    "\n",
    "cols=config.Features\n",
    "\n",
    "@app.route('/')\n",
    "def home():\n",
    "    return render_template(\"home.html\")\n",
    "\n",
    "@app.route('/predict',methods=['POST'])\n",
    "def predict():\n",
    "    int_features=[x for x in request.form.values()]\n",
    "    final=np.array(int_features)\n",
    "    data_unseen=pd.DataFrame([final],columns=cols)\n",
    "    prediction=model.predict(data_unseen)\n",
    "    return render_template('home.html',pred=\" Species is {}.\".format(prediction.values))\n",
    "\n",
    "@app.route('/predict_api',methods=['POST'])\n",
    "def predict_api():\n",
    "    data=request.get_json(force=True)\n",
    "    data_unseen=pd.DataFrame([data])\n",
    "    prediction=model.predict(data_unseen)\n",
    "    return jsonify(prediction)\n",
    "\n",
    "if __name__==\"__main__\":\n",
    "    app.run(debug=True)"
   ]
  },
  {
   "cell_type": "code",
   "execution_count": null,
   "metadata": {},
   "outputs": [],
   "source": []
  },
  {
   "cell_type": "code",
   "execution_count": null,
   "metadata": {},
   "outputs": [],
   "source": []
  }
 ],
 "metadata": {
  "kernelspec": {
   "display_name": "Python 3",
   "language": "python",
   "name": "python3"
  },
  "language_info": {
   "codemirror_mode": {
    "name": "ipython",
    "version": 3
   },
   "file_extension": ".py",
   "mimetype": "text/x-python",
   "name": "python",
   "nbconvert_exporter": "python",
   "pygments_lexer": "ipython3",
   "version": "3.7.6"
  }
 },
 "nbformat": 4,
 "nbformat_minor": 4
}
